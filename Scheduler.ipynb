{
 "cells": [
  {
   "cell_type": "code",
   "execution_count": 51,
   "metadata": {},
   "outputs": [],
   "source": [
    "import numpy as np\n",
    "\n",
    "profile = np.array([.5,.5,.1])\n",
    "usage = np.zeros(10)\n",
    "usage2 = np.array([.3,.6,.5,.7,.2,.2,.1])"
   ]
  },
  {
   "cell_type": "code",
   "execution_count": 48,
   "metadata": {},
   "outputs": [],
   "source": [
    "import numpy as np\n",
    "\n",
    "def can_schedule(available_rss, required_rss):\n",
    "    if available_rss.size != required_rss.size:\n",
    "        print(\"two array should have same size\")\n",
    "    if np.all(available_rss-required_rss > 0):\n",
    "        return True\n",
    "    else:\n",
    "        return False"
   ]
  },
  {
   "cell_type": "code",
   "execution_count": 53,
   "metadata": {},
   "outputs": [],
   "source": [
    "def earliest_schedule_time(usage, profile):\n",
    "    if usage.ndim > 1 | profile.ndim > 1:\n",
    "        print(\"inputs should be 1d np arrary\")\n",
    "    available_rss = 1 - usage\n",
    "    scope = available_rss.shape[0]+1\n",
    "    available_rss_append = np.hstack((available_rss,np.ones(profile.shape[0])))\n",
    "    \n",
    "    # print(available_rss.shape)\n",
    "    for shift in range(scope):\n",
    "        if can_schedule(available_rss_append[shift:shift+profile.shape[0]], profile):\n",
    "            return shift\n",
    "        "
   ]
  },
  {
   "cell_type": "code",
   "execution_count": 54,
   "metadata": {},
   "outputs": [
    {
     "name": "stdout",
     "output_type": "stream",
     "text": [
      "4\n"
     ]
    }
   ],
   "source": [
    "print(earliest_schedule_time(usage2, profile))"
   ]
  },
  {
   "cell_type": "code",
   "execution_count": null,
   "metadata": {},
   "outputs": [],
   "source": []
  }
 ],
 "metadata": {
  "kernelspec": {
   "display_name": "Python 3",
   "language": "python",
   "name": "python3"
  },
  "language_info": {
   "codemirror_mode": {
    "name": "ipython",
    "version": 3
   },
   "file_extension": ".py",
   "mimetype": "text/x-python",
   "name": "python",
   "nbconvert_exporter": "python",
   "pygments_lexer": "ipython3",
   "version": "3.5.4"
  }
 },
 "nbformat": 4,
 "nbformat_minor": 2
}
