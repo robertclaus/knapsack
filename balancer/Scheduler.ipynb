{
 "cells": [
  {
   "cell_type": "code",
   "execution_count": null,
   "metadata": {},
   "outputs": [],
   "source": [
    "import numpy as np\n",
    "\n",
    "profile = np.array([.5,.5,.1])\n",
    "usage = np.zeros(10)\n",
    "usage2 = np.array([.3,.6,.5,.7,.2,.2,.1])"
   ]
  },
  {
   "cell_type": "code",
   "execution_count": 1,
   "metadata": {},
   "outputs": [],
   "source": [
    "import numpy as np\n",
    "\n",
    "def can_schedule(available_rss, required_rss):\n",
    "    if available_rss.size != required_rss.size:\n",
    "        print(\"two array should have same size\")\n",
    "    if np.all(available_rss-required_rss > 0):\n",
    "        return True\n",
    "    else:\n",
    "        return False"
   ]
  },
  {
   "cell_type": "code",
   "execution_count": 2,
   "metadata": {},
   "outputs": [],
   "source": [
    "def earliest_schedule_time(usage, profile):\n",
    "    if usage.ndim > 1 | profile.ndim > 1:\n",
    "        print(\"inputs should be 1d np arrary\")\n",
    "    available_rss = 1 - usage\n",
    "    scope = available_rss.shape[0]+1\n",
    "    available_rss_append = np.hstack((available_rss,np.ones(profile.shape[0])))\n",
    "    \n",
    "    # print(available_rss.shape)\n",
    "    for shift in range(scope):\n",
    "        if can_schedule(available_rss_append[shift:shift+profile.shape[0]], profile):\n",
    "            return shift\n",
    "        "
   ]
  },
  {
   "cell_type": "code",
   "execution_count": null,
   "metadata": {},
   "outputs": [],
   "source": [
    "import multiprocessing\n",
    "multiprocessing.cpu_count()"
   ]
  },
  {
   "cell_type": "code",
   "execution_count": null,
   "metadata": {},
   "outputs": [],
   "source": [
    "import os\n",
    "# number of available cpu cores\n",
    "# len(os.sched_getaffinity(0))"
   ]
  },
  {
   "cell_type": "code",
   "execution_count": 3,
   "metadata": {},
   "outputs": [],
   "source": [
    "from multiprocessing import cpu_count, Pool\n",
    "import time\n",
    "import numpy as np\n",
    "\n",
    "def spin(interval):\n",
    "    # spin for interval time, interval use unit sec\n",
    "    t_start = time.clock()\n",
    "    while time.clock()-t_start < interval:\n",
    "        2*2\n",
    "\n",
    "def spin_and_sleep(arg):\n",
    "    granularity = 0.001 # 1ms\n",
    "    # percent = 0.3\n",
    "    percent = arg[0]\n",
    "    interval = arg[1]\n",
    "    t_start = time.clock()\n",
    "    while time.clock()-t_start < interval:\n",
    "        t0_start = time.clock()\n",
    "        while time.clock()-t0_start < granularity*percent:\n",
    "            2*2 #busy\n",
    "        time.sleep(granularity*(1-percent))\n",
    "        \n",
    "        \n",
    "def set_cpu_usage_1(percent, interval):\n",
    "    processes = np.int(cpu_count()*percent)\n",
    "    #print(processes)\n",
    "    pool = Pool(processes)\n",
    "    # A parallel equivalent of the map() built-in function \n",
    "    # (it supports only one iterable argument though).\n",
    "    # It blocks until the result is ready.\n",
    "    pool.map(spin, [interval]*processes)\n",
    "    \n",
    "def set_cpu_usage_2(percent, interval):\n",
    "    processes = cpu_count()\n",
    "    \n",
    "    pool = Pool(processes)\n",
    "    pool.map(spin_and_sleep, [(percent, interval)]*processes)\n",
    "    pool.terminate()"
   ]
  },
  {
   "cell_type": "code",
   "execution_count": null,
   "metadata": {
    "scrolled": true
   },
   "outputs": [],
   "source": [
    "set_cpu_usage_1(0.5, 20)\n",
    "# spin(1, 30)"
   ]
  },
  {
   "cell_type": "code",
   "execution_count": null,
   "metadata": {},
   "outputs": [],
   "source": [
    "set_cpu_usage_2(0.5, 10)"
   ]
  },
  {
   "cell_type": "code",
   "execution_count": null,
   "metadata": {},
   "outputs": [],
   "source": [
    "# linux cpulimit"
   ]
  },
  {
   "cell_type": "code",
   "execution_count": 42,
   "metadata": {},
   "outputs": [],
   "source": [
    "\n",
    "def applyRandomProfile(interval, rand_seed, num_break_pt):\n",
    "    # generate a random perfoile for a certain interval\n",
    "    np.random.seed(rand_seed)\n",
    "    usage_lvl = np.random.rand(num_break_pt) \n",
    "    interval_len = np.random.rand(num_break_pt)\n",
    "    interval_len = interval_len/sum(interval_len)*interval\n",
    "    print(\"The random profile has following shape\")\n",
    "    print(\"usage_lvl: \", usage_lvl)\n",
    "    print(\"interval_len: \", interval_len)\n",
    "    for i in range(num_break_pt):\n",
    "        set_cpu_usage_2(usage_lvl[i], interval_len[i])\n",
    "    return interval_len, usage_lvl\n",
    "    "
   ]
  },
  {
   "cell_type": "code",
   "execution_count": 43,
   "metadata": {},
   "outputs": [
    {
     "name": "stdout",
     "output_type": "stream",
     "text": [
      "The random profile has following shape\n",
      "usage_lvl:  [0.5488135  0.71518937 0.60276338 0.54488318 0.4236548  0.64589411\n",
      " 0.43758721 0.891773   0.96366276 0.38344152 0.79172504 0.52889492\n",
      " 0.56804456 0.92559664 0.07103606]\n",
      "interval_len:  [0.05192047 0.01204817 0.49615934 0.4637047  0.51844146 0.58316004\n",
      " 0.47621971 0.2749962  0.46511843 0.0704799  0.38132984 0.08542443\n",
      " 0.56292953 0.31097015 0.24709763]\n"
     ]
    }
   ],
   "source": [
    "\n",
    "interval_len, usage_lvl = applyRandomProfile(5, 0 ,15)\n"
   ]
  },
  {
   "cell_type": "code",
   "execution_count": 44,
   "metadata": {},
   "outputs": [
    {
     "data": {
      "text/plain": [
       "(0, 1)"
      ]
     },
     "execution_count": 44,
     "metadata": {},
     "output_type": "execute_result"
    },
    {
     "data": {
      "text/plain": [
       "[<matplotlib.lines.Line2D at 0x1147c1b00>]"
      ]
     },
     "execution_count": 44,
     "metadata": {},
     "output_type": "execute_result"
    },
    {
     "data": {
      "image/png": "[encoded data removed]",
      "text/plain": [
       "<Figure size 432x288 with 1 Axes>"
      ]
     },
     "metadata": {},
     "output_type": "display_data"
    }
   ],
   "source": [
    "import matplotlib.pyplot as plt\n",
    "import numpy as np\n",
    "interval_tic = np.cumsum(interval_len)\n",
    "plt.ylim((0,1))\n",
    "plt.step(interval_tic, usage_lvl)"
   ]
  },
  {
   "cell_type": "code",
   "execution_count": 28,
   "metadata": {},
   "outputs": [],
   "source": [
    "def applyPredefinedProfile(interval_len, usage_lvl):\n",
    "    if(interval_len.shape[0] != usage_lvl.shape[0]):\n",
    "        print(\"interval size and usage level size should agree\")\n",
    "    for i in range(interval_len.shape[0]):\n",
    "        set_cpu_usage_2(usage_lvl[i], interval_len[i])\n",
    "        "
   ]
  },
  {
   "cell_type": "code",
   "execution_count": 41,
   "metadata": {
    "scrolled": false
   },
   "outputs": [
    {
     "data": {
      "text/plain": [
       "(0, 1)"
      ]
     },
     "execution_count": 41,
     "metadata": {},
     "output_type": "execute_result"
    },
    {
     "data": {
      "text/plain": [
       "[<matplotlib.lines.Line2D at 0x107ccd358>]"
      ]
     },
     "execution_count": 41,
     "metadata": {},
     "output_type": "execute_result"
    },
    {
     "data": {
      "image/png": "[encoded data removed]",
      "text/plain": [
       "<Figure size 432x288 with 1 Axes>"
      ]
     },
     "metadata": {},
     "output_type": "display_data"
    }
   ],
   "source": [
    "import matplotlib.pyplot as plt\n",
    "import numpy as np\n",
    "interval_len = np.array([2]*8)\n",
    "interval_tic = np.cumsum(interval_len)\n",
    "usage_lvl = np.array([0.3,0.7]*4)\n",
    "#plt.plot(list(range(8)), usage_lvl)\n",
    "plt.ylim((0,1))\n",
    "\n",
    "plt.step(interval_tic, usage_lvl)\n"
   ]
  },
  {
   "cell_type": "code",
   "execution_count": 37,
   "metadata": {},
   "outputs": [],
   "source": [
    "applyPredefinedProfile(interval_len, usage_lvl)"
   ]
  },
  {
   "cell_type": "code",
   "execution_count": 45,
   "metadata": {},
   "outputs": [],
   "source": [
    "# write matrix inversion lambda function\n",
    "import numpy as np\n",
    "def matrix_inversion(n):\n",
    "    A = np.random.rand(n,n)\n",
    "    pos_def_mat = np.dot(A,A.transpose())\n",
    "    np.linalg.inv(pos_def_mat)"
   ]
  },
  {
   "cell_type": "code",
   "execution_count": 47,
   "metadata": {},
   "outputs": [],
   "source": [
    "n = 10000\n",
    "matrix_inversion(n)"
   ]
  },
  {
   "cell_type": "code",
   "execution_count": null,
   "metadata": {},
   "outputs": [],
   "source": []
  }
 ],
 "metadata": {
  "kernelspec": {
   "display_name": "Python 3",
   "language": "python",
   "name": "python3"
  },
  "language_info": {
   "codemirror_mode": {
    "name": "ipython",
    "version": 3
   },
   "file_extension": ".py",
   "mimetype": "text/x-python",
   "name": "python",
   "nbconvert_exporter": "python",
   "pygments_lexer": "ipython3",
   "version": "3.5.4"
  }
 },
 "nbformat": 4,
 "nbformat_minor": 2
}
