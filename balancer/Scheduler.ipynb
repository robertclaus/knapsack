{
 "cells": [
  {
   "cell_type": "code",
   "execution_count": 51,
   "metadata": {},
   "outputs": [],
   "source": [
    "import numpy as np\n",
    "\n",
    "profile = np.array([.5,.5,.1])\n",
    "usage = np.zeros(10)\n",
    "usage2 = np.array([.3,.6,.5,.7,.2,.2,.1])"
   ]
  },
  {
   "cell_type": "code",
   "execution_count": 48,
   "metadata": {},
   "outputs": [],
   "source": [
    "import numpy as np\n",
    "\n",
    "def can_schedule(available_rss, required_rss):\n",
    "    if available_rss.size != required_rss.size:\n",
    "        print(\"two array should have same size\")\n",
    "    if np.all(available_rss-required_rss > 0):\n",
    "        return True\n",
    "    else:\n",
    "        return False"
   ]
  },
  {
   "cell_type": "code",
   "execution_count": 53,
   "metadata": {},
   "outputs": [],
   "source": [
    "def earliest_schedule_time(usage, profile):\n",
    "    if usage.ndim > 1 | profile.ndim > 1:\n",
    "        print(\"inputs should be 1d np arrary\")\n",
    "    available_rss = 1 - usage\n",
    "    scope = available_rss.shape[0]+1\n",
    "    available_rss_append = np.hstack((available_rss,np.ones(profile.shape[0])))\n",
    "    \n",
    "    # print(available_rss.shape)\n",
    "    for shift in range(scope):\n",
    "        if can_schedule(available_rss_append[shift:shift+profile.shape[0]], profile):\n",
    "            return shift\n",
    "        "
   ]
  },
  {
   "cell_type": "code",
   "execution_count": 54,
   "metadata": {},
   "outputs": [
    {
     "name": "stdout",
     "output_type": "stream",
     "text": [
      "4\n"
     ]
    }
   ],
   "source": [
    "print(earliest_schedule_time(usage2, profile))"
   ]
  },
  {
   "cell_type": "code",
   "execution_count": 1,
   "metadata": {},
   "outputs": [
    {
     "data": {
      "text/plain": [
       "4"
      ]
     },
     "execution_count": 1,
     "metadata": {},
     "output_type": "execute_result"
    }
   ],
   "source": [
    "import multiprocessing\n",
    "multiprocessing.cpu_count()"
   ]
  },
  {
   "cell_type": "code",
   "execution_count": 2,
   "metadata": {
    "collapsed": true
   },
   "outputs": [
    {
     "ename": "AttributeError",
     "evalue": "module 'os' has no attribute 'sched_getaffinity'",
     "output_type": "error",
     "traceback": [
      "\u001b[0;31m---------------------------------------------------------------------------\u001b[0m",
      "\u001b[0;31mAttributeError\u001b[0m                            Traceback (most recent call last)",
      "\u001b[0;32m<ipython-input-2-0241e55d2423>\u001b[0m in \u001b[0;36m<module>\u001b[0;34m()\u001b[0m\n\u001b[1;32m      1\u001b[0m \u001b[0;32mimport\u001b[0m \u001b[0mos\u001b[0m\u001b[0;34m\u001b[0m\u001b[0m\n\u001b[0;32m----> 2\u001b[0;31m \u001b[0mlen\u001b[0m\u001b[0;34m(\u001b[0m\u001b[0mos\u001b[0m\u001b[0;34m.\u001b[0m\u001b[0msched_getaffinity\u001b[0m\u001b[0;34m(\u001b[0m\u001b[0;36m0\u001b[0m\u001b[0;34m)\u001b[0m\u001b[0;34m)\u001b[0m\u001b[0;34m\u001b[0m\u001b[0m\n\u001b[0m",
      "\u001b[0;31mAttributeError\u001b[0m: module 'os' has no attribute 'sched_getaffinity'"
     ]
    }
   ],
   "source": [
    "import os\n",
    "# number of available cpu cores\n",
    "# len(os.sched_getaffinity(0))"
   ]
  },
  {
   "cell_type": "code",
   "execution_count": 62,
   "metadata": {},
   "outputs": [],
   "source": [
    "from multiprocessing import cpu_count, Pool\n",
    "import time\n",
    "import numpy as np\n",
    "\n",
    "def spin(interval):\n",
    "    # spin for interval time, interval use unit sec\n",
    "    t_start = time.clock()\n",
    "    while time.clock()-t_start < interval:\n",
    "        2*2\n",
    "\n",
    "def spin_and_sleep(arg):\n",
    "    granularity = 0.001 # 1ms\n",
    "    # percent = 0.3\n",
    "    percent = arg[0]\n",
    "    interval = arg[1]\n",
    "    t_start = time.clock()\n",
    "    while time.clock()-t_start < interval:\n",
    "        t0_start = time.clock()\n",
    "        while time.clock()-t0_start < granularity*percent:\n",
    "            2*2 #busy\n",
    "        time.sleep(granularity*(1-percent))\n",
    "        \n",
    "        \n",
    "def set_cpu_usage_1(percent, interval):\n",
    "    processes = np.int(cpu_count()*percent)\n",
    "    #print(processes)\n",
    "    pool = Pool(processes)\n",
    "    # A parallel equivalent of the map() built-in function \n",
    "    # (it supports only one iterable argument though).\n",
    "    # It blocks until the result is ready.\n",
    "    pool.map(spin, [interval]*processes)\n",
    "    \n",
    "def set_cpu_usage_2(percent, interval):\n",
    "    processes = cpu_count()\n",
    "    \n",
    "    pool = Pool(processes)\n",
    "    pool.map(spin_and_sleep, [(percent, interval)]*processes)"
   ]
  },
  {
   "cell_type": "code",
   "execution_count": 54,
   "metadata": {
    "scrolled": true
   },
   "outputs": [],
   "source": [
    "set_cpu_usage_1(0.5, 20)\n",
    "# spin(1, 30)"
   ]
  },
  {
   "cell_type": "code",
   "execution_count": 63,
   "metadata": {},
   "outputs": [],
   "source": [
    "set_cpu_usage_2(0.5, 10)"
   ]
  },
  {
   "cell_type": "code",
   "execution_count": null,
   "metadata": {},
   "outputs": [],
   "source": [
    "# linux cpulimit"
   ]
  }
 ],
 "metadata": {
  "kernelspec": {
   "display_name": "Python 3",
   "language": "python",
   "name": "python3"
  },
  "language_info": {
   "codemirror_mode": {
    "name": "ipython",
    "version": 3
   },
   "file_extension": ".py",
   "mimetype": "text/x-python",
   "name": "python",
   "nbconvert_exporter": "python",
   "pygments_lexer": "ipython3",
   "version": "3.5.4"
  }
 },
 "nbformat": 4,
 "nbformat_minor": 2
}
